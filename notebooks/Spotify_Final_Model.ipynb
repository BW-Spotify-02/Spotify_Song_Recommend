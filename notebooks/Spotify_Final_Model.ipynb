{
  "nbformat": 4,
  "nbformat_minor": 5,
  "metadata": {
    "kernelspec": {
      "display_name": "Python 3",
      "language": "python",
      "name": "python3"
    },
    "language_info": {
      "codemirror_mode": {
        "name": "ipython",
        "version": 3
      },
      "file_extension": ".py",
      "mimetype": "text/x-python",
      "name": "python",
      "nbconvert_exporter": "python",
      "pygments_lexer": "ipython3",
      "version": "3.9.6"
    },
    "colab": {
      "name": "Spotify_Final_Model.ipynb",
      "provenance": [],
      "collapsed_sections": [],
      "machine_shape": "hm"
    },
    "accelerator": "TPU"
  },
  "cells": [
    {
      "cell_type": "code",
      "metadata": {
        "colab": {
          "base_uri": "https://localhost:8080/"
        },
        "id": "R6Xnyanhk6Ce",
        "outputId": "c7ae1aaa-2ede-411b-c1b1-bbd7e5286138"
      },
      "source": [
        "!pip install feature-engine"
      ],
      "id": "R6Xnyanhk6Ce",
      "execution_count": 2,
      "outputs": [
        {
          "output_type": "stream",
          "text": [
            "Collecting feature-engine\n",
            "  Downloading feature_engine-1.1.1-py2.py3-none-any.whl (179 kB)\n",
            "\u001b[?25l\r\u001b[K     |█▉                              | 10 kB 21.3 MB/s eta 0:00:01\r\u001b[K     |███▋                            | 20 kB 26.9 MB/s eta 0:00:01\r\u001b[K     |█████▌                          | 30 kB 13.0 MB/s eta 0:00:01\r\u001b[K     |███████▎                        | 40 kB 9.3 MB/s eta 0:00:01\r\u001b[K     |█████████                       | 51 kB 5.3 MB/s eta 0:00:01\r\u001b[K     |███████████                     | 61 kB 5.8 MB/s eta 0:00:01\r\u001b[K     |████████████▊                   | 71 kB 6.2 MB/s eta 0:00:01\r\u001b[K     |██████████████▋                 | 81 kB 6.4 MB/s eta 0:00:01\r\u001b[K     |████████████████▍               | 92 kB 4.8 MB/s eta 0:00:01\r\u001b[K     |██████████████████▏             | 102 kB 5.2 MB/s eta 0:00:01\r\u001b[K     |████████████████████            | 112 kB 5.2 MB/s eta 0:00:01\r\u001b[K     |█████████████████████▉          | 122 kB 5.2 MB/s eta 0:00:01\r\u001b[K     |███████████████████████▊        | 133 kB 5.2 MB/s eta 0:00:01\r\u001b[K     |█████████████████████████▌      | 143 kB 5.2 MB/s eta 0:00:01\r\u001b[K     |███████████████████████████▎    | 153 kB 5.2 MB/s eta 0:00:01\r\u001b[K     |█████████████████████████████▏  | 163 kB 5.2 MB/s eta 0:00:01\r\u001b[K     |███████████████████████████████ | 174 kB 5.2 MB/s eta 0:00:01\r\u001b[K     |████████████████████████████████| 179 kB 5.2 MB/s \n",
            "\u001b[?25hRequirement already satisfied: scipy>=1.4.1 in /usr/local/lib/python3.7/dist-packages (from feature-engine) (1.4.1)\n",
            "Requirement already satisfied: scikit-learn>=0.22.2 in /usr/local/lib/python3.7/dist-packages (from feature-engine) (0.22.2.post1)\n",
            "Requirement already satisfied: numpy>=1.18.2 in /usr/local/lib/python3.7/dist-packages (from feature-engine) (1.19.5)\n",
            "Requirement already satisfied: pandas>=1.0.3 in /usr/local/lib/python3.7/dist-packages (from feature-engine) (1.1.5)\n",
            "Collecting statsmodels>=0.11.1\n",
            "  Downloading statsmodels-0.12.2-cp37-cp37m-manylinux1_x86_64.whl (9.5 MB)\n",
            "\u001b[K     |████████████████████████████████| 9.5 MB 66.3 MB/s \n",
            "\u001b[?25hRequirement already satisfied: python-dateutil>=2.7.3 in /usr/local/lib/python3.7/dist-packages (from pandas>=1.0.3->feature-engine) (2.8.2)\n",
            "Requirement already satisfied: pytz>=2017.2 in /usr/local/lib/python3.7/dist-packages (from pandas>=1.0.3->feature-engine) (2018.9)\n",
            "Requirement already satisfied: six>=1.5 in /usr/local/lib/python3.7/dist-packages (from python-dateutil>=2.7.3->pandas>=1.0.3->feature-engine) (1.15.0)\n",
            "Requirement already satisfied: joblib>=0.11 in /usr/local/lib/python3.7/dist-packages (from scikit-learn>=0.22.2->feature-engine) (1.0.1)\n",
            "Requirement already satisfied: patsy>=0.5 in /usr/local/lib/python3.7/dist-packages (from statsmodels>=0.11.1->feature-engine) (0.5.1)\n",
            "Installing collected packages: statsmodels, feature-engine\n",
            "  Attempting uninstall: statsmodels\n",
            "    Found existing installation: statsmodels 0.10.2\n",
            "    Uninstalling statsmodels-0.10.2:\n",
            "      Successfully uninstalled statsmodels-0.10.2\n",
            "Successfully installed feature-engine-1.1.1 statsmodels-0.12.2\n"
          ],
          "name": "stdout"
        }
      ]
    },
    {
      "cell_type": "code",
      "metadata": {
        "colab": {
          "base_uri": "https://localhost:8080/"
        },
        "id": "eT8SCoepsvS2",
        "outputId": "a1b8e303-8197-46b1-a412-fe4d5a202d3f"
      },
      "source": [
        "from google.colab import drive\n",
        "drive.mount('/content/drive')"
      ],
      "id": "eT8SCoepsvS2",
      "execution_count": 3,
      "outputs": [
        {
          "output_type": "stream",
          "text": [
            "Mounted at /content/drive\n"
          ],
          "name": "stdout"
        }
      ]
    },
    {
      "cell_type": "code",
      "metadata": {
        "id": "a89d2e4c"
      },
      "source": [
        "import joblib\n",
        "import sys\n",
        "import itertools\n",
        "import numpy as np \n",
        "import pandas as pd\n",
        "import re\n",
        "import sklearn\n",
        "from sklearn.feature_extraction.text import TfidfVectorizer\n",
        "from sklearn.metrics.pairwise import cosine_similarity\n",
        "from sklearn.preprocessing import OneHotEncoder\n",
        "from sklearn.preprocessing import MinMaxScaler\n",
        "import matplotlib.pyplot as plt\n",
        "from feature_engine.encoding import OneHotEncoder as fe_OneHotEncoder\n",
        "import scipy.sparse as sp\n",
        "from sklearn.feature_extraction.text import CountVectorizer\n",
        "from sklearn.neighbors import NearestNeighbors\n",
        "from sklearn.metrics.pairwise import cosine_similarity"
      ],
      "id": "a89d2e4c",
      "execution_count": 4,
      "outputs": []
    },
    {
      "cell_type": "code",
      "metadata": {
        "id": "4e1cccd6"
      },
      "source": [
        "df = pd.read_csv('/content/drive/MyDrive/Colab Notebooks/Lambda DS/04.Unit_4/04.Build_Week_Spotify/tracks_features.csv')"
      ],
      "id": "4e1cccd6",
      "execution_count": 69,
      "outputs": []
    },
    {
      "cell_type": "code",
      "metadata": {
        "id": "6318c32f"
      },
      "source": [
        "def explicit_converter(x):\n",
        "    if x:\n",
        "        return 1 \n",
        "    else:\n",
        "        return 0"
      ],
      "id": "6318c32f",
      "execution_count": 70,
      "outputs": []
    },
    {
      "cell_type": "code",
      "metadata": {
        "id": "ff4561e0"
      },
      "source": [
        "def decade_function(x):\n",
        "    if x in range(1900,1991):\n",
        "        return '1900-1990'\n",
        "    elif x in range(1991,1996):\n",
        "        return '1991-1995'\n",
        "    elif x in range(1996,2001):\n",
        "        return '1996-2000'\n",
        "    elif x in range(2001,2006):\n",
        "        return '2001-2005'\n",
        "    elif x == 2006:\n",
        "        return '2006' \n",
        "    elif x == 2007:\n",
        "        return '2007'\n",
        "    elif x == 2008:\n",
        "        return '2008'\n",
        "    elif x == 2009:\n",
        "        return '2009'\n",
        "    elif x == 2010:\n",
        "        return '2010'\n",
        "    elif x == 2011:\n",
        "        return '2011'\n",
        "    elif x == 2012:\n",
        "        return '2012'\n",
        "    elif x == 2013:\n",
        "        return '2013'\n",
        "    elif x == 2014:\n",
        "        return '2014'\n",
        "    elif x == 2015:\n",
        "        return '2015'\n",
        "    elif x == 2016:\n",
        "        return '2016'\n",
        "    elif x == 2017:\n",
        "        return '2017'\n",
        "    elif x == 2018:\n",
        "        return '2018'\n",
        "    elif x == 2019:\n",
        "        return '2019'\n",
        "    elif x == 2020:\n",
        "        return '2020'\n",
        "    elif x == 2021:\n",
        "        return '2021'\n",
        "        "
      ],
      "id": "ff4561e0",
      "execution_count": 71,
      "outputs": []
    },
    {
      "cell_type": "code",
      "metadata": {
        "id": "3be9b2c4"
      },
      "source": [
        "def wrangle(df3):\n",
        "    df3['artists_new'] = df3['artists'].apply(lambda x: re.findall(r\"'([^']*)'\", x))\n",
        "    df3['artists_new2'] = df3['artists'].apply(lambda x: re.findall('\\\"(.*?)\\\"',x))\n",
        "    df3['artists_final'] = np.where(df3['artists_new'].apply(lambda x: not x), df3['artists_new2'], df3['artists_new'])\n",
        "    df3['artists_song'] = df3.apply(lambda row: row['artists_final'][0]+row['name'],axis = 1)\n",
        "    df3.drop_duplicates('artists_song',inplace = True)\n",
        "    cols_to_drop = ['id', 'album_id','artists', 'artist_ids', 'track_number', 'disc_number', 'release_date', 'artists_new', 'artists_new2', 'artists_song', 'duration_ms']\n",
        "    df3.drop(columns = cols_to_drop, inplace = True)\n",
        "    #df3['Genres'] = df3['Genres'].apply(lambda x: [re.sub(' ','_',i) for i in re.findall(r\"'([^']*)'\", str(x))]) \n",
        "    df3['explicit'] = df3['explicit'].apply(explicit_converter)\n",
        "    #df3.rename(columns={\"Genres\": \"genres\"}, inplace = True)\n",
        "    df3['year'] = df3['year'].replace(0, np.nan)\n",
        "    df3.dropna(subset = ['year'], inplace = True)\n",
        "    return df3"
      ],
      "id": "3be9b2c4",
      "execution_count": 72,
      "outputs": []
    },
    {
      "cell_type": "code",
      "metadata": {
        "colab": {
          "base_uri": "https://localhost:8080/",
          "height": 640
        },
        "id": "060400fb",
        "outputId": "74222cb3-176d-4686-eea3-6956f089fcdf"
      },
      "source": [
        "wrangle(df)"
      ],
      "id": "060400fb",
      "execution_count": 73,
      "outputs": [
        {
          "output_type": "execute_result",
          "data": {
            "text/html": [
              "<div>\n",
              "<style scoped>\n",
              "    .dataframe tbody tr th:only-of-type {\n",
              "        vertical-align: middle;\n",
              "    }\n",
              "\n",
              "    .dataframe tbody tr th {\n",
              "        vertical-align: top;\n",
              "    }\n",
              "\n",
              "    .dataframe thead th {\n",
              "        text-align: right;\n",
              "    }\n",
              "</style>\n",
              "<table border=\"1\" class=\"dataframe\">\n",
              "  <thead>\n",
              "    <tr style=\"text-align: right;\">\n",
              "      <th></th>\n",
              "      <th>name</th>\n",
              "      <th>album</th>\n",
              "      <th>explicit</th>\n",
              "      <th>danceability</th>\n",
              "      <th>energy</th>\n",
              "      <th>key</th>\n",
              "      <th>loudness</th>\n",
              "      <th>mode</th>\n",
              "      <th>speechiness</th>\n",
              "      <th>acousticness</th>\n",
              "      <th>instrumentalness</th>\n",
              "      <th>liveness</th>\n",
              "      <th>valence</th>\n",
              "      <th>tempo</th>\n",
              "      <th>time_signature</th>\n",
              "      <th>year</th>\n",
              "      <th>artists_final</th>\n",
              "    </tr>\n",
              "  </thead>\n",
              "  <tbody>\n",
              "    <tr>\n",
              "      <th>0</th>\n",
              "      <td>Testify</td>\n",
              "      <td>The Battle Of Los Angeles</td>\n",
              "      <td>0</td>\n",
              "      <td>0.470</td>\n",
              "      <td>0.978</td>\n",
              "      <td>7</td>\n",
              "      <td>-5.399</td>\n",
              "      <td>1</td>\n",
              "      <td>0.0727</td>\n",
              "      <td>0.02610</td>\n",
              "      <td>0.000011</td>\n",
              "      <td>0.3560</td>\n",
              "      <td>0.503</td>\n",
              "      <td>117.906</td>\n",
              "      <td>4.0</td>\n",
              "      <td>1999.0</td>\n",
              "      <td>[Rage Against The Machine]</td>\n",
              "    </tr>\n",
              "    <tr>\n",
              "      <th>1</th>\n",
              "      <td>Guerrilla Radio</td>\n",
              "      <td>The Battle Of Los Angeles</td>\n",
              "      <td>1</td>\n",
              "      <td>0.599</td>\n",
              "      <td>0.957</td>\n",
              "      <td>11</td>\n",
              "      <td>-5.764</td>\n",
              "      <td>1</td>\n",
              "      <td>0.1880</td>\n",
              "      <td>0.01290</td>\n",
              "      <td>0.000071</td>\n",
              "      <td>0.1550</td>\n",
              "      <td>0.489</td>\n",
              "      <td>103.680</td>\n",
              "      <td>4.0</td>\n",
              "      <td>1999.0</td>\n",
              "      <td>[Rage Against The Machine]</td>\n",
              "    </tr>\n",
              "    <tr>\n",
              "      <th>2</th>\n",
              "      <td>Calm Like a Bomb</td>\n",
              "      <td>The Battle Of Los Angeles</td>\n",
              "      <td>0</td>\n",
              "      <td>0.315</td>\n",
              "      <td>0.970</td>\n",
              "      <td>7</td>\n",
              "      <td>-5.424</td>\n",
              "      <td>1</td>\n",
              "      <td>0.4830</td>\n",
              "      <td>0.02340</td>\n",
              "      <td>0.000002</td>\n",
              "      <td>0.1220</td>\n",
              "      <td>0.370</td>\n",
              "      <td>149.749</td>\n",
              "      <td>4.0</td>\n",
              "      <td>1999.0</td>\n",
              "      <td>[Rage Against The Machine]</td>\n",
              "    </tr>\n",
              "    <tr>\n",
              "      <th>3</th>\n",
              "      <td>Mic Check</td>\n",
              "      <td>The Battle Of Los Angeles</td>\n",
              "      <td>1</td>\n",
              "      <td>0.440</td>\n",
              "      <td>0.967</td>\n",
              "      <td>11</td>\n",
              "      <td>-5.830</td>\n",
              "      <td>0</td>\n",
              "      <td>0.2370</td>\n",
              "      <td>0.16300</td>\n",
              "      <td>0.000004</td>\n",
              "      <td>0.1210</td>\n",
              "      <td>0.574</td>\n",
              "      <td>96.752</td>\n",
              "      <td>4.0</td>\n",
              "      <td>1999.0</td>\n",
              "      <td>[Rage Against The Machine]</td>\n",
              "    </tr>\n",
              "    <tr>\n",
              "      <th>4</th>\n",
              "      <td>Sleep Now In the Fire</td>\n",
              "      <td>The Battle Of Los Angeles</td>\n",
              "      <td>0</td>\n",
              "      <td>0.426</td>\n",
              "      <td>0.929</td>\n",
              "      <td>2</td>\n",
              "      <td>-6.729</td>\n",
              "      <td>1</td>\n",
              "      <td>0.0701</td>\n",
              "      <td>0.00162</td>\n",
              "      <td>0.105000</td>\n",
              "      <td>0.0789</td>\n",
              "      <td>0.539</td>\n",
              "      <td>127.059</td>\n",
              "      <td>4.0</td>\n",
              "      <td>1999.0</td>\n",
              "      <td>[Rage Against The Machine]</td>\n",
              "    </tr>\n",
              "    <tr>\n",
              "      <th>...</th>\n",
              "      <td>...</td>\n",
              "      <td>...</td>\n",
              "      <td>...</td>\n",
              "      <td>...</td>\n",
              "      <td>...</td>\n",
              "      <td>...</td>\n",
              "      <td>...</td>\n",
              "      <td>...</td>\n",
              "      <td>...</td>\n",
              "      <td>...</td>\n",
              "      <td>...</td>\n",
              "      <td>...</td>\n",
              "      <td>...</td>\n",
              "      <td>...</td>\n",
              "      <td>...</td>\n",
              "      <td>...</td>\n",
              "      <td>...</td>\n",
              "    </tr>\n",
              "    <tr>\n",
              "      <th>1204020</th>\n",
              "      <td>Gospel of Juke</td>\n",
              "      <td>Notch - EP</td>\n",
              "      <td>0</td>\n",
              "      <td>0.264</td>\n",
              "      <td>0.966</td>\n",
              "      <td>5</td>\n",
              "      <td>-6.970</td>\n",
              "      <td>0</td>\n",
              "      <td>0.0672</td>\n",
              "      <td>0.00935</td>\n",
              "      <td>0.002240</td>\n",
              "      <td>0.3370</td>\n",
              "      <td>0.415</td>\n",
              "      <td>159.586</td>\n",
              "      <td>4.0</td>\n",
              "      <td>2014.0</td>\n",
              "      <td>[FVLCRVM]</td>\n",
              "    </tr>\n",
              "    <tr>\n",
              "      <th>1204021</th>\n",
              "      <td>Prism Visions</td>\n",
              "      <td>Notch - EP</td>\n",
              "      <td>0</td>\n",
              "      <td>0.796</td>\n",
              "      <td>0.701</td>\n",
              "      <td>11</td>\n",
              "      <td>-6.602</td>\n",
              "      <td>0</td>\n",
              "      <td>0.0883</td>\n",
              "      <td>0.10400</td>\n",
              "      <td>0.644000</td>\n",
              "      <td>0.0749</td>\n",
              "      <td>0.781</td>\n",
              "      <td>121.980</td>\n",
              "      <td>4.0</td>\n",
              "      <td>2014.0</td>\n",
              "      <td>[FVLCRVM]</td>\n",
              "    </tr>\n",
              "    <tr>\n",
              "      <th>1204022</th>\n",
              "      <td>Tokyo 360</td>\n",
              "      <td>Notch - EP</td>\n",
              "      <td>0</td>\n",
              "      <td>0.785</td>\n",
              "      <td>0.796</td>\n",
              "      <td>9</td>\n",
              "      <td>-5.960</td>\n",
              "      <td>0</td>\n",
              "      <td>0.0564</td>\n",
              "      <td>0.03040</td>\n",
              "      <td>0.918000</td>\n",
              "      <td>0.0664</td>\n",
              "      <td>0.467</td>\n",
              "      <td>121.996</td>\n",
              "      <td>4.0</td>\n",
              "      <td>2014.0</td>\n",
              "      <td>[FVLCRVM]</td>\n",
              "    </tr>\n",
              "    <tr>\n",
              "      <th>1204023</th>\n",
              "      <td>Yummy!</td>\n",
              "      <td>Notch - EP</td>\n",
              "      <td>0</td>\n",
              "      <td>0.665</td>\n",
              "      <td>0.856</td>\n",
              "      <td>6</td>\n",
              "      <td>-6.788</td>\n",
              "      <td>0</td>\n",
              "      <td>0.0409</td>\n",
              "      <td>0.00007</td>\n",
              "      <td>0.776000</td>\n",
              "      <td>0.1170</td>\n",
              "      <td>0.227</td>\n",
              "      <td>124.986</td>\n",
              "      <td>4.0</td>\n",
              "      <td>2014.0</td>\n",
              "      <td>[FVLCRVM]</td>\n",
              "    </tr>\n",
              "    <tr>\n",
              "      <th>1204024</th>\n",
              "      <td>That's The Way It Is</td>\n",
              "      <td>Notch - EP</td>\n",
              "      <td>0</td>\n",
              "      <td>0.736</td>\n",
              "      <td>0.708</td>\n",
              "      <td>2</td>\n",
              "      <td>-9.279</td>\n",
              "      <td>0</td>\n",
              "      <td>0.0539</td>\n",
              "      <td>0.01680</td>\n",
              "      <td>0.296000</td>\n",
              "      <td>0.2790</td>\n",
              "      <td>0.204</td>\n",
              "      <td>117.991</td>\n",
              "      <td>4.0</td>\n",
              "      <td>2014.0</td>\n",
              "      <td>[FVLCRVM]</td>\n",
              "    </tr>\n",
              "  </tbody>\n",
              "</table>\n",
              "<p>1126176 rows × 17 columns</p>\n",
              "</div>"
            ],
            "text/plain": [
              "                          name  ...               artists_final\n",
              "0                      Testify  ...  [Rage Against The Machine]\n",
              "1              Guerrilla Radio  ...  [Rage Against The Machine]\n",
              "2             Calm Like a Bomb  ...  [Rage Against The Machine]\n",
              "3                    Mic Check  ...  [Rage Against The Machine]\n",
              "4        Sleep Now In the Fire  ...  [Rage Against The Machine]\n",
              "...                        ...  ...                         ...\n",
              "1204020         Gospel of Juke  ...                   [FVLCRVM]\n",
              "1204021          Prism Visions  ...                   [FVLCRVM]\n",
              "1204022              Tokyo 360  ...                   [FVLCRVM]\n",
              "1204023                 Yummy!  ...                   [FVLCRVM]\n",
              "1204024   That's The Way It Is  ...                   [FVLCRVM]\n",
              "\n",
              "[1126176 rows x 17 columns]"
            ]
          },
          "metadata": {},
          "execution_count": 73
        }
      ]
    },
    {
      "cell_type": "code",
      "metadata": {
        "id": "dce0b797"
      },
      "source": [
        "df['age'] = df['year'].apply(np.int64)"
      ],
      "id": "dce0b797",
      "execution_count": 10,
      "outputs": []
    },
    {
      "cell_type": "code",
      "metadata": {
        "id": "ecaaa284"
      },
      "source": [
        "df['age'] = df['age'].apply(decade_function)"
      ],
      "id": "ecaaa284",
      "execution_count": 11,
      "outputs": []
    },
    {
      "cell_type": "code",
      "metadata": {
        "colab": {
          "base_uri": "https://localhost:8080/"
        },
        "id": "d28ced59",
        "outputId": "c711e39f-9c3f-4715-dba6-7c246e7cb1a2"
      },
      "source": [
        "ohe_enc = fe_OneHotEncoder(\n",
        "    top_categories=None,\n",
        "    variables=['age'], drop_last=True)  # to return k-1, false to return k\n",
        "\n",
        "\n",
        "ohe_enc.fit(df.fillna('Missing'))"
      ],
      "id": "d28ced59",
      "execution_count": 12,
      "outputs": [
        {
          "output_type": "execute_result",
          "data": {
            "text/plain": [
              "OneHotEncoder(drop_last=True, drop_last_binary=False, ignore_format=False,\n",
              "              top_categories=None, variables=['age'])"
            ]
          },
          "metadata": {},
          "execution_count": 12
        }
      ]
    },
    {
      "cell_type": "code",
      "metadata": {
        "id": "2d551aac"
      },
      "source": [
        "df = ohe_enc.transform(df.fillna('Missing'))"
      ],
      "id": "2d551aac",
      "execution_count": 13,
      "outputs": []
    },
    {
      "cell_type": "code",
      "metadata": {
        "colab": {
          "base_uri": "https://localhost:8080/"
        },
        "id": "e9a1bf54",
        "outputId": "64eccbb9-a0cc-4ed8-b7af-e5ab5a75c1b2"
      },
      "source": [
        "df.shape"
      ],
      "id": "e9a1bf54",
      "execution_count": 74,
      "outputs": [
        {
          "output_type": "execute_result",
          "data": {
            "text/plain": [
              "(1126176, 17)"
            ]
          },
          "metadata": {},
          "execution_count": 74
        }
      ]
    },
    {
      "cell_type": "code",
      "metadata": {
        "id": "8ROGzMdj72VU"
      },
      "source": [
        "#feature scailing for float columns in df\n",
        "scale_cols = ['danceability', 'energy', 'loudness', 'speechiness',\n",
        "       'acousticness', 'instrumentalness', 'liveness', 'valence', 'tempo',\n",
        "       'time_signature', 'key', 'mode']\n",
        "scaled = df[scale_cols].reset_index(drop=True)\n",
        "scaler = MinMaxScaler()\n",
        "scaled_float_df = pd.DataFrame(scaler.fit_transform(scaled), columns = scaled.columns)"
      ],
      "id": "8ROGzMdj72VU",
      "execution_count": 75,
      "outputs": []
    },
    {
      "cell_type": "code",
      "metadata": {
        "id": "871fc36f"
      },
      "source": [
        "dropper = ['danceability', 'energy', 'loudness', 'speechiness',\n",
        "       'acousticness', 'instrumentalness', 'liveness', 'valence', 'tempo',\n",
        "       'time_signature', 'year', 'key', 'mode']"
      ],
      "id": "871fc36f",
      "execution_count": 76,
      "outputs": []
    },
    {
      "cell_type": "code",
      "metadata": {
        "id": "0de1bfcc"
      },
      "source": [
        "df1 = df.drop(columns = dropper)"
      ],
      "id": "0de1bfcc",
      "execution_count": 77,
      "outputs": []
    },
    {
      "cell_type": "code",
      "metadata": {
        "colab": {
          "base_uri": "https://localhost:8080/",
          "height": 419
        },
        "id": "_86lLcXvKfsB",
        "outputId": "4743c7cf-6f29-43e8-ae92-4d321e25045b"
      },
      "source": [
        "df = df.reset_index()\n",
        "df1 = df1.reset_index()\n",
        "scaled_float_df.reset_index()"
      ],
      "id": "_86lLcXvKfsB",
      "execution_count": 78,
      "outputs": [
        {
          "output_type": "execute_result",
          "data": {
            "text/html": [
              "<div>\n",
              "<style scoped>\n",
              "    .dataframe tbody tr th:only-of-type {\n",
              "        vertical-align: middle;\n",
              "    }\n",
              "\n",
              "    .dataframe tbody tr th {\n",
              "        vertical-align: top;\n",
              "    }\n",
              "\n",
              "    .dataframe thead th {\n",
              "        text-align: right;\n",
              "    }\n",
              "</style>\n",
              "<table border=\"1\" class=\"dataframe\">\n",
              "  <thead>\n",
              "    <tr style=\"text-align: right;\">\n",
              "      <th></th>\n",
              "      <th>index</th>\n",
              "      <th>danceability</th>\n",
              "      <th>energy</th>\n",
              "      <th>loudness</th>\n",
              "      <th>speechiness</th>\n",
              "      <th>acousticness</th>\n",
              "      <th>instrumentalness</th>\n",
              "      <th>liveness</th>\n",
              "      <th>valence</th>\n",
              "      <th>tempo</th>\n",
              "      <th>time_signature</th>\n",
              "      <th>key</th>\n",
              "      <th>mode</th>\n",
              "    </tr>\n",
              "  </thead>\n",
              "  <tbody>\n",
              "    <tr>\n",
              "      <th>0</th>\n",
              "      <td>0</td>\n",
              "      <td>0.470</td>\n",
              "      <td>0.978</td>\n",
              "      <td>0.812104</td>\n",
              "      <td>0.075026</td>\n",
              "      <td>0.026205</td>\n",
              "      <td>0.000011</td>\n",
              "      <td>0.3560</td>\n",
              "      <td>0.503</td>\n",
              "      <td>0.473644</td>\n",
              "      <td>0.8</td>\n",
              "      <td>0.636364</td>\n",
              "      <td>1.0</td>\n",
              "    </tr>\n",
              "    <tr>\n",
              "      <th>1</th>\n",
              "      <td>1</td>\n",
              "      <td>0.599</td>\n",
              "      <td>0.957</td>\n",
              "      <td>0.806675</td>\n",
              "      <td>0.194014</td>\n",
              "      <td>0.012952</td>\n",
              "      <td>0.000071</td>\n",
              "      <td>0.1550</td>\n",
              "      <td>0.489</td>\n",
              "      <td>0.416496</td>\n",
              "      <td>0.8</td>\n",
              "      <td>1.000000</td>\n",
              "      <td>1.0</td>\n",
              "    </tr>\n",
              "    <tr>\n",
              "      <th>2</th>\n",
              "      <td>2</td>\n",
              "      <td>0.315</td>\n",
              "      <td>0.970</td>\n",
              "      <td>0.811732</td>\n",
              "      <td>0.498452</td>\n",
              "      <td>0.023494</td>\n",
              "      <td>0.000002</td>\n",
              "      <td>0.1220</td>\n",
              "      <td>0.370</td>\n",
              "      <td>0.601561</td>\n",
              "      <td>0.8</td>\n",
              "      <td>0.636364</td>\n",
              "      <td>1.0</td>\n",
              "    </tr>\n",
              "    <tr>\n",
              "      <th>3</th>\n",
              "      <td>3</td>\n",
              "      <td>0.440</td>\n",
              "      <td>0.967</td>\n",
              "      <td>0.805694</td>\n",
              "      <td>0.244582</td>\n",
              "      <td>0.163655</td>\n",
              "      <td>0.000004</td>\n",
              "      <td>0.1210</td>\n",
              "      <td>0.574</td>\n",
              "      <td>0.388665</td>\n",
              "      <td>0.8</td>\n",
              "      <td>1.000000</td>\n",
              "      <td>0.0</td>\n",
              "    </tr>\n",
              "    <tr>\n",
              "      <th>4</th>\n",
              "      <td>4</td>\n",
              "      <td>0.426</td>\n",
              "      <td>0.929</td>\n",
              "      <td>0.792322</td>\n",
              "      <td>0.072343</td>\n",
              "      <td>0.001627</td>\n",
              "      <td>0.105000</td>\n",
              "      <td>0.0789</td>\n",
              "      <td>0.539</td>\n",
              "      <td>0.510412</td>\n",
              "      <td>0.8</td>\n",
              "      <td>0.181818</td>\n",
              "      <td>1.0</td>\n",
              "    </tr>\n",
              "    <tr>\n",
              "      <th>...</th>\n",
              "      <td>...</td>\n",
              "      <td>...</td>\n",
              "      <td>...</td>\n",
              "      <td>...</td>\n",
              "      <td>...</td>\n",
              "      <td>...</td>\n",
              "      <td>...</td>\n",
              "      <td>...</td>\n",
              "      <td>...</td>\n",
              "      <td>...</td>\n",
              "      <td>...</td>\n",
              "      <td>...</td>\n",
              "      <td>...</td>\n",
              "    </tr>\n",
              "    <tr>\n",
              "      <th>1126171</th>\n",
              "      <td>1126171</td>\n",
              "      <td>0.264</td>\n",
              "      <td>0.966</td>\n",
              "      <td>0.788738</td>\n",
              "      <td>0.069350</td>\n",
              "      <td>0.009388</td>\n",
              "      <td>0.002240</td>\n",
              "      <td>0.3370</td>\n",
              "      <td>0.415</td>\n",
              "      <td>0.641078</td>\n",
              "      <td>0.8</td>\n",
              "      <td>0.454545</td>\n",
              "      <td>0.0</td>\n",
              "    </tr>\n",
              "    <tr>\n",
              "      <th>1126172</th>\n",
              "      <td>1126172</td>\n",
              "      <td>0.796</td>\n",
              "      <td>0.701</td>\n",
              "      <td>0.794211</td>\n",
              "      <td>0.091125</td>\n",
              "      <td>0.104418</td>\n",
              "      <td>0.644000</td>\n",
              "      <td>0.0749</td>\n",
              "      <td>0.781</td>\n",
              "      <td>0.490009</td>\n",
              "      <td>0.8</td>\n",
              "      <td>1.000000</td>\n",
              "      <td>0.0</td>\n",
              "    </tr>\n",
              "    <tr>\n",
              "      <th>1126173</th>\n",
              "      <td>1126173</td>\n",
              "      <td>0.785</td>\n",
              "      <td>0.796</td>\n",
              "      <td>0.803760</td>\n",
              "      <td>0.058204</td>\n",
              "      <td>0.030522</td>\n",
              "      <td>0.918000</td>\n",
              "      <td>0.0664</td>\n",
              "      <td>0.467</td>\n",
              "      <td>0.490074</td>\n",
              "      <td>0.8</td>\n",
              "      <td>0.818182</td>\n",
              "      <td>0.0</td>\n",
              "    </tr>\n",
              "    <tr>\n",
              "      <th>1126174</th>\n",
              "      <td>1126174</td>\n",
              "      <td>0.665</td>\n",
              "      <td>0.856</td>\n",
              "      <td>0.791445</td>\n",
              "      <td>0.042208</td>\n",
              "      <td>0.000070</td>\n",
              "      <td>0.776000</td>\n",
              "      <td>0.1170</td>\n",
              "      <td>0.227</td>\n",
              "      <td>0.502085</td>\n",
              "      <td>0.8</td>\n",
              "      <td>0.545455</td>\n",
              "      <td>0.0</td>\n",
              "    </tr>\n",
              "    <tr>\n",
              "      <th>1126175</th>\n",
              "      <td>1126175</td>\n",
              "      <td>0.736</td>\n",
              "      <td>0.708</td>\n",
              "      <td>0.754395</td>\n",
              "      <td>0.055624</td>\n",
              "      <td>0.016867</td>\n",
              "      <td>0.296000</td>\n",
              "      <td>0.2790</td>\n",
              "      <td>0.204</td>\n",
              "      <td>0.473985</td>\n",
              "      <td>0.8</td>\n",
              "      <td>0.181818</td>\n",
              "      <td>0.0</td>\n",
              "    </tr>\n",
              "  </tbody>\n",
              "</table>\n",
              "<p>1126176 rows × 13 columns</p>\n",
              "</div>"
            ],
            "text/plain": [
              "           index  danceability  energy  ...  time_signature       key  mode\n",
              "0              0         0.470   0.978  ...             0.8  0.636364   1.0\n",
              "1              1         0.599   0.957  ...             0.8  1.000000   1.0\n",
              "2              2         0.315   0.970  ...             0.8  0.636364   1.0\n",
              "3              3         0.440   0.967  ...             0.8  1.000000   0.0\n",
              "4              4         0.426   0.929  ...             0.8  0.181818   1.0\n",
              "...          ...           ...     ...  ...             ...       ...   ...\n",
              "1126171  1126171         0.264   0.966  ...             0.8  0.454545   0.0\n",
              "1126172  1126172         0.796   0.701  ...             0.8  1.000000   0.0\n",
              "1126173  1126173         0.785   0.796  ...             0.8  0.818182   0.0\n",
              "1126174  1126174         0.665   0.856  ...             0.8  0.545455   0.0\n",
              "1126175  1126175         0.736   0.708  ...             0.8  0.181818   0.0\n",
              "\n",
              "[1126176 rows x 13 columns]"
            ]
          },
          "metadata": {},
          "execution_count": 78
        }
      ]
    },
    {
      "cell_type": "code",
      "metadata": {
        "id": "8175b5e9"
      },
      "source": [
        "df2 = pd.concat([df1, scaled_float_df], axis = 1)"
      ],
      "id": "8175b5e9",
      "execution_count": 79,
      "outputs": []
    },
    {
      "cell_type": "code",
      "metadata": {
        "id": "2K3bCFHvAtri"
      },
      "source": [
        "# Drop unnecessary categories\n",
        "df_train = df2.drop(['name', 'album', 'artists_final', 'index'], axis = 1)"
      ],
      "id": "2K3bCFHvAtri",
      "execution_count": 91,
      "outputs": []
    },
    {
      "cell_type": "code",
      "metadata": {
        "id": "aDyYH9VP-etl"
      },
      "source": [
        "df.drop(columns='index', inplace=True)"
      ],
      "id": "aDyYH9VP-etl",
      "execution_count": 101,
      "outputs": []
    },
    {
      "cell_type": "markdown",
      "metadata": {
        "id": "BPmUDm-UEwSU"
      },
      "source": [
        "# Nearest Neighbors (Brute Force Algo)"
      ],
      "id": "BPmUDm-UEwSU"
    },
    {
      "cell_type": "code",
      "metadata": {
        "colab": {
          "base_uri": "https://localhost:8080/"
        },
        "id": "CSp-8BQzEqNH",
        "outputId": "e2556964-de43-4666-dddd-ed78ea74b6db"
      },
      "source": [
        "# Fit on DTM\n",
        "nn = NearestNeighbors(n_neighbors=6, algorithm= 'brute', n_jobs = -1)\n",
        "nn.fit(df_train)"
      ],
      "id": "CSp-8BQzEqNH",
      "execution_count": 92,
      "outputs": [
        {
          "output_type": "execute_result",
          "data": {
            "text/plain": [
              "NearestNeighbors(algorithm='brute', leaf_size=30, metric='minkowski',\n",
              "                 metric_params=None, n_jobs=-1, n_neighbors=6, p=2, radius=1.0)"
            ]
          },
          "metadata": {},
          "execution_count": 92
        }
      ]
    },
    {
      "cell_type": "code",
      "metadata": {
        "colab": {
          "base_uri": "https://localhost:8080/"
        },
        "id": "2WpT82goGf9c",
        "outputId": "75d69e85-1a89-4ec3-a413-aad2353cf570"
      },
      "source": [
        "# sample a doc from dtm to use as our query point \n",
        "doc_index = 1126175\n",
        "doc = [df_train.iloc[doc_index].values]\n",
        "\n",
        "# Query Using kneighbors \n",
        "neigh_dist, neigh_index = nn.kneighbors(doc)\n",
        "\n",
        "print(neigh_dist)\n",
        "print(neigh_index)"
      ],
      "id": "2WpT82goGf9c",
      "execution_count": 93,
      "outputs": [
        {
          "output_type": "stream",
          "text": [
            "[[0.         0.15715287 0.1667135  0.17779515 0.2002936  0.21819788]]\n",
            "[[1126175  897492  231125  226170  911316  807530]]\n"
          ],
          "name": "stdout"
        }
      ]
    },
    {
      "cell_type": "code",
      "metadata": {
        "colab": {
          "base_uri": "https://localhost:8080/"
        },
        "id": "JklGELODGjQ-",
        "outputId": "2ed1dcab-a0b0-4f6d-a096-d25524e595b3"
      },
      "source": [
        "df.iloc[897492]"
      ],
      "id": "JklGELODGjQ-",
      "execution_count": 102,
      "outputs": [
        {
          "output_type": "execute_result",
          "data": {
            "text/plain": [
              "name                   Different You - Approaching Black Extended Mix\n",
              "album               Different You (Approaching Black, Movement Mac...\n",
              "explicit                                                            0\n",
              "danceability                                                    0.712\n",
              "energy                                                          0.636\n",
              "key                                                                 3\n",
              "loudness                                                       -8.803\n",
              "mode                                                                0\n",
              "speechiness                                                     0.037\n",
              "acousticness                                                   0.0547\n",
              "instrumentalness                                                0.362\n",
              "liveness                                                        0.306\n",
              "valence                                                         0.265\n",
              "tempo                                                         119.987\n",
              "time_signature                                                      4\n",
              "year                                                             2017\n",
              "artists_final                 [LaMeduza, Stendahl, Approaching Black]\n",
              "Name: 897492, dtype: object"
            ]
          },
          "metadata": {},
          "execution_count": 102
        }
      ]
    },
    {
      "cell_type": "code",
      "metadata": {
        "colab": {
          "base_uri": "https://localhost:8080/"
        },
        "id": "DGQpgRVHL19J",
        "outputId": "aab585a6-0f08-46a6-fc6c-fb3ce6108856"
      },
      "source": [
        "df.iloc[259048]"
      ],
      "id": "DGQpgRVHL19J",
      "execution_count": 58,
      "outputs": [
        {
          "output_type": "execute_result",
          "data": {
            "text/plain": [
              "name                                            Maria\n",
              "album               The Best Of - Ultimate Collection\n",
              "explicit                                            0\n",
              "danceability                                    0.776\n",
              "energy                                           0.78\n",
              "key                                                10\n",
              "loudness                                        -6.95\n",
              "mode                                                0\n",
              "speechiness                                    0.0825\n",
              "acousticness                                 0.000216\n",
              "instrumentalness                                    0\n",
              "liveness                                         0.25\n",
              "valence                                         0.732\n",
              "tempo                                         112.523\n",
              "time_signature                                      4\n",
              "year                                             2004\n",
              "artists_final                                [Vico C]\n",
              "age_1996-2000                                       0\n",
              "age_1991-1995                                       0\n",
              "age_2018                                            0\n",
              "age_2001-2005                                       1\n",
              "age_2011                                            0\n",
              "age_1900-1990                                       0\n",
              "age_2017                                            0\n",
              "age_2010                                            0\n",
              "age_2019                                            0\n",
              "age_2007                                            0\n",
              "age_2020                                            0\n",
              "age_2015                                            0\n",
              "age_2016                                            0\n",
              "age_2009                                            0\n",
              "age_2014                                            0\n",
              "age_2008                                            0\n",
              "age_2012                                            0\n",
              "age_2013                                            0\n",
              "Name: 264961, dtype: object"
            ]
          },
          "metadata": {},
          "execution_count": 58
        }
      ]
    },
    {
      "cell_type": "markdown",
      "metadata": {
        "id": "WYeWW_ZAtxTa"
      },
      "source": [
        "# Pickle the Model"
      ],
      "id": "WYeWW_ZAtxTa"
    },
    {
      "cell_type": "code",
      "metadata": {
        "id": "tgE03cnDtLe7"
      },
      "source": [
        "model_filename = 'knn_model' \n",
        "joblib.dump(nn, open(model_filename, 'wb'))"
      ],
      "id": "tgE03cnDtLe7",
      "execution_count": 96,
      "outputs": []
    }
  ]
}